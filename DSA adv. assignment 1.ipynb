{
 "cells": [
  {
   "cell_type": "markdown",
   "id": "10023051",
   "metadata": {},
   "source": [
    "# Delete the elements in an linked list whose sum is equal to zero"
   ]
  },
  {
   "cell_type": "code",
   "execution_count": 1,
   "id": "7b943857",
   "metadata": {},
   "outputs": [
    {
     "name": "stdout",
     "output_type": "stream",
     "text": [
      "Original Linked List:\n",
      "1 -> 2 -> -3 -> 3 -> 1 -> None\n",
      "\n",
      "Linked List after deleting zero-sum sublists:\n",
      "3 -> 1 -> None\n"
     ]
    }
   ],
   "source": [
    "class ListNode:\n",
    "    def __init__(self, value):\n",
    "        self.value = value\n",
    "        self.next = None\n",
    "\n",
    "def delete_zero_sum_sublists(head):\n",
    "    dummy = ListNode(0)\n",
    "    dummy.next = head\n",
    "    prefix_sum = 0\n",
    "    prefix_sum_map = {}\n",
    "    \n",
    "    current = dummy\n",
    "    \n",
    "    while current:\n",
    "        prefix_sum += current.value\n",
    "        \n",
    "        if prefix_sum in prefix_sum_map:\n",
    "            # Remove elements between prefix_sum_map[prefix_sum] and current\n",
    "            prev = prefix_sum_map[prefix_sum].next\n",
    "            temp_sum = prefix_sum + prev.value\n",
    "            while temp_sum != prefix_sum:\n",
    "                del prefix_sum_map[temp_sum]\n",
    "                prev = prev.next\n",
    "                temp_sum += prev.value\n",
    "            prefix_sum_map[prefix_sum].next = current.next\n",
    "        else:\n",
    "            prefix_sum_map[prefix_sum] = current\n",
    "        \n",
    "        current = current.next\n",
    "    \n",
    "    return dummy.next\n",
    "\n",
    "def print_linked_list(head):\n",
    "    current = head\n",
    "    while current:\n",
    "        print(current.value, end=\" -> \")\n",
    "        current = current.next\n",
    "    print(\"None\")\n",
    "\n",
    "# Helper function to create a linked list from a list of values\n",
    "def create_linked_list(values):\n",
    "    dummy = ListNode(0)\n",
    "    current = dummy\n",
    "    for value in values:\n",
    "        current.next = ListNode(value)\n",
    "        current = current.next\n",
    "    return dummy.next\n",
    "\n",
    "\n",
    "values = [1, 2, -3, 3, 1]\n",
    "head = create_linked_list(values)\n",
    "print(\"Original Linked List:\")\n",
    "print_linked_list(head)\n",
    "\n",
    "head = delete_zero_sum_sublists(head)\n",
    "\n",
    "print(\"\\nLinked List after deleting zero-sum sublists:\")\n",
    "print_linked_list(head)\n"
   ]
  },
  {
   "cell_type": "markdown",
   "id": "e0dd6563",
   "metadata": {},
   "source": [
    "# Reverse a linked list in groups of given size"
   ]
  },
  {
   "cell_type": "code",
   "execution_count": 3,
   "id": "6df7ae7f",
   "metadata": {},
   "outputs": [
    {
     "name": "stdout",
     "output_type": "stream",
     "text": [
      "Original Linked List:\n",
      "1 -> 2 -> 3 -> 4 -> 5 -> 6 -> 7 -> 8 -> None\n",
      "\n",
      "Linked List after reversing in groups of 8\n",
      "8 -> 7 -> 6 -> 5 -> 4 -> 3 -> 2 -> 1 -> None\n"
     ]
    }
   ],
   "source": [
    "class ListNode:\n",
    "    def __init__(self, value):\n",
    "        self.value = value\n",
    "        self.next = None\n",
    "\n",
    "def reverse_linked_list_in_groups(head, k):\n",
    "    if not head or k == 1:\n",
    "        return head\n",
    "    \n",
    "    dummy = ListNode(0)\n",
    "    dummy.next = head\n",
    "    prev_group_end = dummy\n",
    "    current = head\n",
    "    length = 0\n",
    "    \n",
    "    while current:\n",
    "        length += 1\n",
    "        if length % k == 0:\n",
    "            prev_group_end = reverse_sublist(prev_group_end, current.next)\n",
    "            current = prev_group_end.next\n",
    "        else:\n",
    "            current = current.next\n",
    "    \n",
    "    return dummy.next\n",
    "\n",
    "def reverse_sublist(prev, next_group_start):\n",
    "    current = prev.next\n",
    "    prev.next = None\n",
    "    while current != next_group_start:\n",
    "        temp = current.next\n",
    "        current.next = prev.next\n",
    "        prev.next = current\n",
    "        current = temp\n",
    "    return prev.next\n",
    "\n",
    "def print_linked_list(head):\n",
    "    current = head\n",
    "    while current:\n",
    "        print(current.value, end=\" -> \")\n",
    "        current = current.next\n",
    "    print(\"None\")\n",
    "\n",
    "# Helper function to create a linked list from a list of values\n",
    "def create_linked_list(values):\n",
    "    dummy = ListNode(0)\n",
    "    current = dummy\n",
    "    for value in values:\n",
    "        current.next = ListNode(value)\n",
    "        current = current.next\n",
    "    return dummy.next\n",
    "\n",
    "\n",
    "values = [1, 2, 3, 4, 5, 6, 7, 8]\n",
    "k = 8\n",
    "head = create_linked_list(values)\n",
    "print(\"Original Linked List:\")\n",
    "print_linked_list(head)\n",
    "\n",
    "head = reverse_linked_list_in_groups(head, k)\n",
    "\n",
    "print(\"\\nLinked List after reversing in groups of\", k)\n",
    "print_linked_list(head)\n"
   ]
  },
  {
   "cell_type": "markdown",
   "id": "faf28ebc",
   "metadata": {},
   "source": [
    "# Merge a linked list into another linked list at alternate positions."
   ]
  },
  {
   "cell_type": "code",
   "execution_count": 4,
   "id": "a2cb3f35",
   "metadata": {},
   "outputs": [
    {
     "name": "stdout",
     "output_type": "stream",
     "text": [
      "Original Linked List 1:\n",
      "1 -> 3 -> 5 -> None\n",
      "\n",
      "Original Linked List 2:\n",
      "2 -> 4 -> 6 -> None\n",
      "\n",
      "Linked List after merging at alternate positions:\n",
      "1 -> 2 -> 3 -> 4 -> 5 -> 6 -> None\n"
     ]
    }
   ],
   "source": [
    "class ListNode:\n",
    "    def __init__(self, value):\n",
    "        self.value = value\n",
    "        self.next = None\n",
    "\n",
    "def merge_linked_lists_alternate(head1, head2):\n",
    "    if not head1:\n",
    "        return head2\n",
    "    if not head2:\n",
    "        return head1\n",
    "    \n",
    "    current1 = head1\n",
    "    current2 = head2\n",
    "    \n",
    "    while current1 and current2:\n",
    "        temp1 = current1.next\n",
    "        temp2 = current2.next\n",
    "        \n",
    "        current1.next = current2\n",
    "        current2.next = temp1\n",
    "        \n",
    "        current1 = temp1\n",
    "        current2 = temp2\n",
    "    \n",
    "    return head1\n",
    "\n",
    "def print_linked_list(head):\n",
    "    current = head\n",
    "    while current:\n",
    "        print(current.value, end=\" -> \")\n",
    "        current = current.next\n",
    "    print(\"None\")\n",
    "\n",
    "# Helper function to create a linked list from a list of values\n",
    "def create_linked_list(values):\n",
    "    dummy = ListNode(0)\n",
    "    current = dummy\n",
    "    for value in values:\n",
    "        current.next = ListNode(value)\n",
    "        current = current.next\n",
    "    return dummy.next\n",
    "\n",
    "values1 = [1, 3, 5]\n",
    "values2 = [2, 4, 6]\n",
    "\n",
    "head1 = create_linked_list(values1)\n",
    "head2 = create_linked_list(values2)\n",
    "\n",
    "print(\"Original Linked List 1:\")\n",
    "print_linked_list(head1)\n",
    "print(\"\\nOriginal Linked List 2:\")\n",
    "print_linked_list(head2)\n",
    "\n",
    "merged_head = merge_linked_lists_alternate(head1, head2)\n",
    "\n",
    "print(\"\\nLinked List after merging at alternate positions:\")\n",
    "print_linked_list(merged_head)\n"
   ]
  },
  {
   "cell_type": "markdown",
   "id": "5e6be0c7",
   "metadata": {},
   "source": [
    "# In an array, Count Pairs with given sum"
   ]
  },
  {
   "cell_type": "code",
   "execution_count": 4,
   "id": "cc642a87",
   "metadata": {},
   "outputs": [
    {
     "name": "stdout",
     "output_type": "stream",
     "text": [
      "Number of pairs with sum 10: 3\n"
     ]
    }
   ],
   "source": [
    "def count_pairs_with_sum(arr, target_sum):\n",
    "    count = 0\n",
    "    seen = set()\n",
    "    \n",
    "    for num in arr:\n",
    "        complement = target_sum - num\n",
    "        if complement in seen:\n",
    "            count += 1\n",
    "        seen.add(num)\n",
    "    \n",
    "    return count\n",
    "\n",
    "\n",
    "arr = [1, 2, 3, 8, 5, 9, 5]\n",
    "target_sum = 10\n",
    "\n",
    "result = count_pairs_with_sum(arr, target_sum)\n",
    "print(f\"Number of pairs with sum {target_sum}: {result}\")\n"
   ]
  },
  {
   "cell_type": "markdown",
   "id": "03e542ee",
   "metadata": {},
   "source": [
    "# Find duplicates in an array"
   ]
  },
  {
   "cell_type": "code",
   "execution_count": 5,
   "id": "ac85ab64",
   "metadata": {},
   "outputs": [
    {
     "name": "stdout",
     "output_type": "stream",
     "text": [
      "Duplicate values in the array: [2, 3]\n"
     ]
    }
   ],
   "source": [
    "def find_duplicates(arr):\n",
    "    seen = set()\n",
    "    duplicates = []\n",
    "    \n",
    "    for num in arr:\n",
    "        if num in seen:\n",
    "            duplicates.append(num)\n",
    "        else:\n",
    "            seen.add(num)\n",
    "    \n",
    "    return duplicates\n",
    "\n",
    "\n",
    "arr = [1, 2, 3, 4, 2, 5, 6, 3]\n",
    "duplicate_values = find_duplicates(arr)\n",
    "\n",
    "if len(duplicate_values) > 0:\n",
    "    print(\"Duplicate values in the array:\", duplicate_values)\n",
    "else:\n",
    "    print(\"No duplicates found in the array.\")\n"
   ]
  },
  {
   "cell_type": "markdown",
   "id": "53f2fcac",
   "metadata": {},
   "source": [
    "# Find the Kth largest and Kth smallest number in an array"
   ]
  },
  {
   "cell_type": "code",
   "execution_count": 6,
   "id": "d5f8336b",
   "metadata": {},
   "outputs": [
    {
     "name": "stdout",
     "output_type": "stream",
     "text": [
      "3-th largest number: 9\n",
      "3-th smallest number: 7\n"
     ]
    }
   ],
   "source": [
    "def find_kth_largest(arr, k):\n",
    "    arr.sort(reverse=True)  # Sort the array in descending order\n",
    "    return arr[k - 1]\n",
    "\n",
    "def find_kth_smallest(arr, k):\n",
    "    arr.sort()  # Sort the array in ascending order\n",
    "    return arr[k - 1]\n",
    "\n",
    "\n",
    "arr = [12, 4, 6, 7, 21, 8, 9]\n",
    "k = 3\n",
    "\n",
    "kth_largest = find_kth_largest(arr, k)\n",
    "kth_smallest = find_kth_smallest(arr, k)\n",
    "\n",
    "print(f\"{k}-th largest number: {kth_largest}\")\n",
    "print(f\"{k}-th smallest number: {kth_smallest}\")\n"
   ]
  },
  {
   "cell_type": "markdown",
   "id": "23d24012",
   "metadata": {},
   "source": [
    "# Move all the negative elements to one side of the array"
   ]
  },
  {
   "cell_type": "code",
   "execution_count": 7,
   "id": "c37113d9",
   "metadata": {},
   "outputs": [
    {
     "name": "stdout",
     "output_type": "stream",
     "text": [
      "Original Array: [-12, 11, -13, -5, 6, -7, 5, -3, -6]\n",
      "Array after moving negatives to one side: [-12, -6, -13, -5, -3, -7, 5, 6, 11]\n"
     ]
    }
   ],
   "source": [
    "def move_negatives_to_one_side(arr):\n",
    "    n = len(arr)\n",
    "    left = 0\n",
    "    right = n - 1\n",
    "\n",
    "    while left <= right:\n",
    "        if arr[left] < 0 and arr[right] < 0:\n",
    "            left += 1\n",
    "        elif arr[left] > 0 and arr[right] < 0:\n",
    "            arr[left], arr[right] = arr[right], arr[left]\n",
    "            left += 1\n",
    "            right -= 1\n",
    "        elif arr[left] > 0 and arr[right] > 0:\n",
    "            right -= 1\n",
    "        else:\n",
    "            left += 1\n",
    "            right -= 1\n",
    "\n",
    "\n",
    "arr = [-12, 11, -13, -5, 6, -7, 5, -3, -6]\n",
    "print(\"Original Array:\", arr)\n",
    "\n",
    "move_negatives_to_one_side(arr)\n",
    "print(\"Array after moving negatives to one side:\", arr)\n"
   ]
  },
  {
   "cell_type": "markdown",
   "id": "9d8f680e",
   "metadata": {},
   "source": [
    "# Reverse a string using a stack data structure"
   ]
  },
  {
   "cell_type": "code",
   "execution_count": 9,
   "id": "0e1d9089",
   "metadata": {},
   "outputs": [
    {
     "name": "stdout",
     "output_type": "stream",
     "text": [
      "Original string: edyoda!\n",
      "Reversed string: !adoyde\n"
     ]
    }
   ],
   "source": [
    "class Stack:\n",
    "    def __init__(self):\n",
    "        self.items = []\n",
    "\n",
    "    def push(self, item):\n",
    "        self.items.append(item)\n",
    "\n",
    "    def pop(self):\n",
    "        if not self.is_empty():\n",
    "            return self.items.pop()\n",
    "        else:\n",
    "            return None\n",
    "\n",
    "    def is_empty(self):\n",
    "        return len(self.items) == 0\n",
    "\n",
    "def reverse_string(input_string):\n",
    "    stack = Stack()\n",
    "    for char in input_string:\n",
    "        stack.push(char)\n",
    "    \n",
    "    reversed_string = \"\"\n",
    "    while not stack.is_empty():\n",
    "        reversed_string += stack.pop()\n",
    "    \n",
    "    return reversed_string\n",
    "\n",
    "\n",
    "input_string = \"edyoda!\"\n",
    "reversed_result = reverse_string(input_string)\n",
    "print(\"Original string:\", input_string)\n",
    "print(\"Reversed string:\", reversed_result)\n"
   ]
  },
  {
   "cell_type": "markdown",
   "id": "18dc1aba",
   "metadata": {},
   "source": [
    "# Evaluate a postfix expression using stack"
   ]
  },
  {
   "cell_type": "code",
   "execution_count": 10,
   "id": "ea0a9fd8",
   "metadata": {},
   "outputs": [
    {
     "name": "stdout",
     "output_type": "stream",
     "text": [
      "Postfix expression: 3 4 * 2 / 5 +\n",
      "Result: 11.0\n"
     ]
    }
   ],
   "source": [
    "class Stack:\n",
    "    def __init__(self):\n",
    "        self.items = []\n",
    "\n",
    "    def push(self, item):\n",
    "        self.items.append(item)\n",
    "\n",
    "    def pop(self):\n",
    "        if not self.is_empty():\n",
    "            return self.items.pop()\n",
    "        else:\n",
    "            return None\n",
    "\n",
    "    def is_empty(self):\n",
    "        return len(self.items) == 0\n",
    "\n",
    "def evaluate_postfix(expression):\n",
    "    stack = Stack()\n",
    "    operators = set(['+', '-', '*', '/'])\n",
    "\n",
    "    for token in expression.split():\n",
    "        if token not in operators:\n",
    "            stack.push(float(token))\n",
    "        else:\n",
    "            operand2 = stack.pop()\n",
    "            operand1 = stack.pop()\n",
    "            if operand1 is None or operand2 is None:\n",
    "                return \"Invalid expression\"\n",
    "            \n",
    "            if token == '+':\n",
    "                result = operand1 + operand2\n",
    "            elif token == '-':\n",
    "                result = operand1 - operand2\n",
    "            elif token == '*':\n",
    "                result = operand1 * operand2\n",
    "            elif token == '/':\n",
    "                if operand2 == 0:\n",
    "                    return \"Division by zero error\"\n",
    "                result = operand1 / operand2\n",
    "            \n",
    "            stack.push(result)\n",
    "    \n",
    "    if len(stack.items) == 1:\n",
    "        return stack.pop()\n",
    "    else:\n",
    "        return \"Invalid expression\"\n",
    "\n",
    "# Example usage:\n",
    "postfix_expression = \"3 4 * 2 / 5 +\"\n",
    "result = evaluate_postfix(postfix_expression)\n",
    "print(\"Postfix expression:\", postfix_expression)\n",
    "print(\"Result:\", result)\n"
   ]
  },
  {
   "cell_type": "markdown",
   "id": "31a23948",
   "metadata": {},
   "source": [
    "# Implement a queue using the stack data structure"
   ]
  },
  {
   "cell_type": "code",
   "execution_count": 11,
   "id": "d291b470",
   "metadata": {},
   "outputs": [
    {
     "name": "stdout",
     "output_type": "stream",
     "text": [
      "Queue size: 3\n",
      "Dequeue: 1\n",
      "Dequeue: 2\n",
      "Is empty? False\n",
      "Queue size: 1\n",
      "Queue size: 2\n",
      "Dequeue: 3\n",
      "Dequeue: 4\n",
      "Is empty? True\n"
     ]
    }
   ],
   "source": [
    "class QueueUsingStacks:\n",
    "    def __init__(self):\n",
    "        self.stack1 = []  # For enqueue operations\n",
    "        self.stack2 = []  # For dequeue operations\n",
    "\n",
    "    def enqueue(self, item):\n",
    "        self.stack1.append(item)\n",
    "\n",
    "    def dequeue(self):\n",
    "        if not self.stack2:\n",
    "            if not self.stack1:\n",
    "                return None  # Queue is empty\n",
    "            while self.stack1:\n",
    "                self.stack2.append(self.stack1.pop())\n",
    "        return self.stack2.pop()\n",
    "\n",
    "    def is_empty(self):\n",
    "        return not (self.stack1 or self.stack2)\n",
    "\n",
    "    def size(self):\n",
    "        return len(self.stack1) + len(self.stack2)\n",
    "\n",
    "\n",
    "queue = QueueUsingStacks()\n",
    "queue.enqueue(1)\n",
    "queue.enqueue(2)\n",
    "queue.enqueue(3)\n",
    "\n",
    "print(\"Queue size:\", queue.size())\n",
    "print(\"Dequeue:\", queue.dequeue())\n",
    "print(\"Dequeue:\", queue.dequeue())\n",
    "print(\"Is empty?\", queue.is_empty())\n",
    "print(\"Queue size:\", queue.size())\n",
    "queue.enqueue(4)\n",
    "print(\"Queue size:\", queue.size())\n",
    "print(\"Dequeue:\", queue.dequeue())\n",
    "print(\"Dequeue:\", queue.dequeue())\n",
    "print(\"Is empty?\", queue.is_empty())\n"
   ]
  }
 ],
 "metadata": {
  "kernelspec": {
   "display_name": "Python 3 (ipykernel)",
   "language": "python",
   "name": "python3"
  },
  "language_info": {
   "codemirror_mode": {
    "name": "ipython",
    "version": 3
   },
   "file_extension": ".py",
   "mimetype": "text/x-python",
   "name": "python",
   "nbconvert_exporter": "python",
   "pygments_lexer": "ipython3",
   "version": "3.10.9"
  }
 },
 "nbformat": 4,
 "nbformat_minor": 5
}
